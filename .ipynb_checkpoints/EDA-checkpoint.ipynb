{
 "cells": [
  {
   "cell_type": "markdown",
   "id": "98242f05",
   "metadata": {},
   "source": [
    "## Exploratory data analysis (EDA)\n"
   ]
  },
  {
   "cell_type": "markdown",
   "id": "ac11dea8",
   "metadata": {},
   "source": [
    "Every year, Stack Overflow conducts a massive survey of people on the site, covering all sorts of information \n",
    "like programming languages, salary, code style and various other information. This year, they amassed more than \n",
    "64,000 responses fielded from 213 countries. In this blog, I aimed to look at the data gathered as part of \n",
    "2017 developer survey and see what the developer community has to say.\n",
    "\n",
    "With the given dataset we will try to answer the following 3 questions:\n",
    "\n",
    "* What are the most popular programming languages?\n",
    "* Once a coder, always a coder - or is it?\n",
    "* What Skills are perceived as most important to get hired by a Tech firm"
   ]
  },
  {
   "cell_type": "markdown",
   "id": "2287ceae",
   "metadata": {},
   "source": [
    "### Reading and Exploring"
   ]
  },
  {
   "cell_type": "code",
   "execution_count": 1,
   "id": "557ae1af",
   "metadata": {},
   "outputs": [
    {
     "ename": "ModuleNotFoundError",
     "evalue": "No module named 'plotly'",
     "output_type": "error",
     "traceback": [
      "\u001b[1;31m---------------------------------------------------------------------------\u001b[0m",
      "\u001b[1;31mModuleNotFoundError\u001b[0m                       Traceback (most recent call last)",
      "\u001b[1;32m<ipython-input-1-e92010ce8756>\u001b[0m in \u001b[0;36m<module>\u001b[1;34m\u001b[0m\n\u001b[0;32m      3\u001b[0m \u001b[1;32mimport\u001b[0m \u001b[0mseaborn\u001b[0m \u001b[1;32mas\u001b[0m \u001b[0msns\u001b[0m\u001b[1;33m\u001b[0m\u001b[1;33m\u001b[0m\u001b[0m\n\u001b[0;32m      4\u001b[0m \u001b[1;32mimport\u001b[0m \u001b[0mmatplotlib\u001b[0m\u001b[1;33m.\u001b[0m\u001b[0mpyplot\u001b[0m \u001b[1;32mas\u001b[0m \u001b[0mplt\u001b[0m\u001b[1;33m\u001b[0m\u001b[1;33m\u001b[0m\u001b[0m\n\u001b[1;32m----> 5\u001b[1;33m \u001b[1;32mfrom\u001b[0m \u001b[0mplotly\u001b[0m\u001b[1;33m.\u001b[0m\u001b[0msubplots\u001b[0m \u001b[1;32mimport\u001b[0m \u001b[0mmake_subplots\u001b[0m\u001b[1;33m\u001b[0m\u001b[1;33m\u001b[0m\u001b[0m\n\u001b[0m",
      "\u001b[1;31mModuleNotFoundError\u001b[0m: No module named 'plotly'"
     ]
    }
   ],
   "source": [
    "import pandas as pd \n",
    "import numpy as np\n",
    "import seaborn as sns\n",
    "import matplotlib.pyplot as plt\n",
    "from plotly.subplots import make_subplots"
   ]
  },
  {
   "cell_type": "code",
   "execution_count": null,
   "id": "09e35edc",
   "metadata": {},
   "outputs": [],
   "source": [
    "df = pd.read_csv('survey_results_public.csv')\n",
    "df.shape\n",
    "df.head()\n",
    "df.columns"
   ]
  },
  {
   "cell_type": "code",
   "execution_count": null,
   "id": "6f5612af",
   "metadata": {},
   "outputs": [],
   "source": [
    "df.info()"
   ]
  },
  {
   "cell_type": "code",
   "execution_count": null,
   "id": "2e59c60d",
   "metadata": {},
   "outputs": [],
   "source": [
    "df.describe()"
   ]
  },
  {
   "cell_type": "code",
   "execution_count": null,
   "id": "b53b045c",
   "metadata": {},
   "outputs": [],
   "source": [
    "#set of columns with more than 75% of the values missing\n",
    "most_missing_cols = df.columns[df.isnull().mean() > 0.75]\n",
    "print(most_missing_cols)"
   ]
  },
  {
   "cell_type": "code",
   "execution_count": null,
   "id": "4796769a",
   "metadata": {},
   "outputs": [],
   "source": [
    "#set of columns with more than 50% of the values missing\n",
    "most_missing_cols = df.columns[df.isnull().mean() > 0.5]\n",
    "print(most_missing_cols)"
   ]
  },
  {
   "cell_type": "code",
   "execution_count": null,
   "id": "94019ade",
   "metadata": {},
   "outputs": [],
   "source": [
    "# Drop rows with missing salary values\n",
    "df_salary = df.dropna(subset=['CompTotal'], axis=0)\n",
    "df_salary['CompTotal']"
   ]
  },
  {
   "cell_type": "code",
   "execution_count": null,
   "id": "c498ae05",
   "metadata": {},
   "outputs": [],
   "source": [
    "sns.countplot(y=df.EdLevel)\n",
    "plt.xticks(rotation=90);\n",
    "plt.title('Education Level')\n",
    "plt.ylabel(None);"
   ]
  },
  {
   "cell_type": "code",
   "execution_count": null,
   "id": "0e45dc03",
   "metadata": {},
   "outputs": [],
   "source": [
    "status_vals = df.Employment.value_counts()\n",
    "(status_vals/df.shape[0]).plot(kind=\"bar\");\n",
    "#plt.title(\"Employment Status\");"
   ]
  },
  {
   "cell_type": "markdown",
   "id": "313cc02c",
   "metadata": {},
   "source": [
    "### Analysing Questionnaire "
   ]
  },
  {
   "cell_type": "code",
   "execution_count": null,
   "id": "d62624c5",
   "metadata": {},
   "outputs": [],
   "source": [
    "df_schema = pd.read_csv('survey_results_schema.csv')\n",
    "# df_schema.shape\n",
    "# df_schema.head()"
   ]
  },
  {
   "cell_type": "code",
   "execution_count": null,
   "id": "204ecb94",
   "metadata": {},
   "outputs": [],
   "source": [
    "df_schema.rename(columns={'qname': 'Column','question':'Question'}, inplace=True)\n",
    "df_schema = df_schema[['Column','Question']]\n",
    "# df_schema.head()\n",
    "# df_schema['Column']"
   ]
  },
  {
   "cell_type": "code",
   "execution_count": null,
   "id": "34c1974c",
   "metadata": {},
   "outputs": [],
   "source": [
    "def get_description(column_name, df_schema=df_schema):\n",
    "    '''\n",
    "    INPUT - df_schema - pandas dataframe with the schema of the developers survey\n",
    "            column_name - string - the name of the column you would like to know about\n",
    "    OUTPUT - \n",
    "            desc - string - the description of the column\n",
    "    '''\n",
    "    desc = list(df_schema[df_schema['Column'] == column_name]['Question'])[0]\n",
    "    return desc"
   ]
  },
  {
   "cell_type": "code",
   "execution_count": null,
   "id": "f015d39a",
   "metadata": {},
   "outputs": [],
   "source": [
    "get_description('MainBranch',df_schema)"
   ]
  },
  {
   "cell_type": "code",
   "execution_count": null,
   "id": "b543aa8a",
   "metadata": {},
   "outputs": [],
   "source": [
    "get_description('LearnCode',df_schema)"
   ]
  },
  {
   "cell_type": "code",
   "execution_count": null,
   "id": "6fb041f2",
   "metadata": {},
   "outputs": [],
   "source": [
    "get_description('Language',df_schema)"
   ]
  },
  {
   "cell_type": "code",
   "execution_count": null,
   "id": "0ce940d0",
   "metadata": {},
   "outputs": [],
   "source": [
    "get_description('EdLevel',df_schema)"
   ]
  },
  {
   "cell_type": "code",
   "execution_count": null,
   "id": "df8f6572",
   "metadata": {},
   "outputs": [],
   "source": [
    "get_description('YearsCode',df_schema)"
   ]
  },
  {
   "cell_type": "code",
   "execution_count": null,
   "id": "f2cca971",
   "metadata": {},
   "outputs": [],
   "source": [
    "get_description('Currency',df_schema)"
   ]
  },
  {
   "cell_type": "code",
   "execution_count": null,
   "id": "18c378bf",
   "metadata": {},
   "outputs": [],
   "source": [
    "df[['Age','Employment','EdLevel','LanguageHaveWorkedWith','LanguageWantToWorkWith']].describe()"
   ]
  },
  {
   "cell_type": "code",
   "execution_count": null,
   "id": "05c33ab9",
   "metadata": {},
   "outputs": [],
   "source": [
    "df['Age'].value_counts()"
   ]
  },
  {
   "cell_type": "markdown",
   "id": "69d9e11a",
   "metadata": {},
   "source": [
    "## Q1 What are the most common programing languages by respondent "
   ]
  },
  {
   "cell_type": "markdown",
   "id": "334b21f7",
   "metadata": {},
   "source": [
    "### Analyzing 2021"
   ]
  },
  {
   "cell_type": "code",
   "execution_count": null,
   "id": "aee67dc1",
   "metadata": {},
   "outputs": [],
   "source": [
    "to_list = df['LanguageHaveWorkedWith'].tolist()\n",
    "print(to_list)"
   ]
  },
  {
   "cell_type": "markdown",
   "id": "b268f3d9",
   "metadata": {},
   "source": [
    "The problem with this kind of lists that we can't loop through it to count the unique values or frequencies"
   ]
  },
  {
   "cell_type": "code",
   "execution_count": null,
   "id": "eadedc56",
   "metadata": {},
   "outputs": [],
   "source": [
    "# printing all values that are not nul and vise versa for analysing data set\n",
    "for idx, value  in df['LanguageHaveWorkedWith'][df['LanguageHaveWorkedWith'].notnull()].iteritems():\n",
    "  # print(value)\n",
    "  print(\"list\",idx,\"is\",type(value))"
   ]
  },
  {
   "cell_type": "code",
   "execution_count": null,
   "id": "fe3aab57",
   "metadata": {},
   "outputs": [],
   "source": [
    "# for i, l in enumerate(df['LanguageHaveWorkedWith']):\n",
    "#     print(\"list\",i,\"is\",type(l))"
   ]
  },
  {
   "cell_type": "markdown",
   "id": "6efd6ed8",
   "metadata": {},
   "source": [
    "Used this source to solve this problem : [here](https://towardsdatascience.com/dealing-with-list-values-in-pandas-dataframes-a177e534f173)"
   ]
  },
  {
   "cell_type": "code",
   "execution_count": null,
   "id": "6cf17ba0",
   "metadata": {},
   "outputs": [],
   "source": [
    "def boolean_df(item_lists):\n",
    "  '''\n",
    "    INPUT - item_lists - pandas dataframe with list of items to split into multiple columns\n",
    "            \n",
    "    OUTPUT - \n",
    "            result_df - data frame - the data frame with split columns with all languages \n",
    "            marked as Boolean expressions (True or False) according to the survey respondent\n",
    "    '''\n",
    "  result_df = item_lists.to_frame()\n",
    "  bool_list = []\n",
    "  for key, value  in item_lists[item_lists.notnull()].iteritems():\n",
    "      for item in value.split(';'):\n",
    "          if not item in result_df.columns:\n",
    "              bool_list.append(item)\n",
    "              result_df[item] = False\n",
    "          result_df.at[key, item] = True\n",
    "  return result_df[bool_list]"
   ]
  },
  {
   "cell_type": "code",
   "execution_count": null,
   "id": "0f7c11c0",
   "metadata": {},
   "outputs": [],
   "source": [
    "prog_lang_worked = boolean_df(df['LanguageHaveWorkedWith'])\n",
    "prog_lang_worked_perc = prog_lang_worked.mean().sort_values(ascending=False)*100\n",
    "prog_lang_worked"
   ]
  },
  {
   "cell_type": "code",
   "execution_count": null,
   "id": "451e017e",
   "metadata": {},
   "outputs": [],
   "source": [
    "prog_lang_want = boolean_df(df['LanguageWantToWorkWith'])\n",
    "prog_lang_want_perc = prog_lang_want.mean().sort_values(ascending=False)*100\n",
    "# prog_lang_want"
   ]
  },
  {
   "cell_type": "code",
   "execution_count": null,
   "id": "0362ba72",
   "metadata": {},
   "outputs": [],
   "source": [
    "plt.figure(figsize =(10,10))\n",
    "sns.barplot(x=prog_lang_want_perc, y = prog_lang_want_perc.index )\n",
    "plt.title('Most wanted programming languages in 2021')\n",
    "plt.xlabel('Percentage')"
   ]
  },
  {
   "cell_type": "markdown",
   "id": "717a6c1e",
   "metadata": {},
   "source": [
    "#### Comparing with 2020 Data "
   ]
  },
  {
   "cell_type": "code",
   "execution_count": null,
   "id": "2be3e91c",
   "metadata": {},
   "outputs": [],
   "source": [
    "df_2020 = pd.read_csv('survey_results_public_2020.csv')\n",
    "# df_2020.columns"
   ]
  },
  {
   "cell_type": "code",
   "execution_count": null,
   "id": "75c5a038",
   "metadata": {},
   "outputs": [],
   "source": [
    "prog_lang_2020 = boolean_df(df_2020['LanguageWorkedWith'])\n",
    "prog_lang_2020_perc =prog_lang_2020.mean().sort_values(ascending=False)*100\n",
    "# prog_lang_2020"
   ]
  },
  {
   "cell_type": "code",
   "execution_count": null,
   "id": "6042b801",
   "metadata": {},
   "outputs": [],
   "source": [
    "\n",
    "fig, axes = plt.subplots(1, 2 ,figsize=(10,15))\n",
    "\n",
    "\n",
    "sns.barplot(x=prog_lang_worked_perc, y = prog_lang_worked_perc.index ,ax=axes[0])\n",
    "plt.title('Most common programming languages in 2021')\n",
    "plt.xlabel('Percentage')\n",
    "\n",
    "sns.barplot(x=prog_lang_2020_perc, y = prog_lang_2020_perc.index ,ax=axes[1])\n",
    "plt.title('Most common programming languages in 2020')\n",
    "plt.xlabel('Percentage')\n"
   ]
  },
  {
   "cell_type": "code",
   "execution_count": null,
   "id": "40de46df",
   "metadata": {},
   "outputs": [],
   "source": [
    "prog_lang_loved = prog_lang_worked & prog_lang_want\n",
    "prog_lang_loved_perc = (prog_lang_loved.sum() * 100/ prog_lang_worked.sum()).sort_values(ascending=False)\n",
    "\n",
    "plt.figure(figsize=(10, 10))\n",
    "sns.barplot(x=prog_lang_loved_perc, y=prog_lang_loved_perc.index)\n",
    "plt.title(\"Most loved programming languages\");\n",
    "plt.xlabel('Percentage');"
   ]
  },
  {
   "cell_type": "code",
   "execution_count": null,
   "id": "215f0502",
   "metadata": {},
   "outputs": [],
   "source": [
    "prog_lang_dread = prog_lang_worked & ~prog_lang_want\n",
    "prog_lang_dread_perc = (prog_lang_dread.sum() * 100/ prog_lang_worked.sum()).sort_values(ascending=False)\n",
    "\n",
    "plt.figure(figsize=(10, 10))\n",
    "sns.barplot(x=prog_lang_dread_perc, y=prog_lang_dread_perc.index)\n",
    "plt.title(\"Most Dreaded languages\");\n",
    "plt.xlabel('Percentage');"
   ]
  },
  {
   "cell_type": "markdown",
   "id": "46d46578",
   "metadata": {},
   "source": [
    "### Q2 What are the most used languages by professionals and students ?"
   ]
  },
  {
   "cell_type": "code",
   "execution_count": null,
   "id": "cb6181e0",
   "metadata": {},
   "outputs": [],
   "source": [
    "df['DevType'] = df['DevType'].dropna()\n",
    "dev_type = boolean_df(df['DevType'])\n",
    "dev_type_perc = dev_type.mean().sort_values(ascending=False)*100\n",
    "dev_type_perc"
   ]
  },
  {
   "cell_type": "code",
   "execution_count": null,
   "id": "8d645e6a",
   "metadata": {},
   "outputs": [],
   "source": [
    "plt.figure(figsize =(10,10))\n",
    "sns.barplot(x=dev_type_perc, y = dev_type_perc.index )\n",
    "plt.title('Which of the following describes your current job?')\n",
    "plt.xlabel('Percentage')"
   ]
  },
  {
   "cell_type": "markdown",
   "id": "4ef94d66",
   "metadata": {},
   "source": [
    "To better illustrate the dataset , will need to add the dev_type back to the data set in order to extract more meaningful insights"
   ]
  },
  {
   "cell_type": "code",
   "execution_count": null,
   "id": "e6d9ed56",
   "metadata": {},
   "outputs": [],
   "source": [
    "df['Employment'].value_counts()"
   ]
  },
  {
   "cell_type": "code",
   "execution_count": null,
   "id": "3201abed",
   "metadata": {},
   "outputs": [],
   "source": [
    "#Extracting rows for students\n",
    "\n",
    "students = (df['Employment'] =='Student, full-time') | (df['Employment'] =='Not employed, but looking for work' )"
   ]
  },
  {
   "cell_type": "code",
   "execution_count": null,
   "id": "f13c80e0",
   "metadata": {},
   "outputs": [],
   "source": [
    "merged_prog = df.join(prog_lang_worked)\n",
    "merged_dev = merged_prog.join(dev_type)\n",
    "student_lang = merged_dev.loc[students]\n",
    "student_lang = student_lang.loc[:,'C++':'COBOL']\n",
    "student_lang_perc = student_lang.sum().sort_values(ascending=False)\n",
    "\n",
    "plt.figure(figsize = (10,9))\n",
    "sns.barplot(x=student_lang_perc, y = student_lang_perc.index)\n",
    "plt.title('Most used programming languages by 2021 Students')\n",
    "plt.xlabel('Percentage')\n",
    "# merged_dev.columns\n"
   ]
  },
  {
   "cell_type": "code",
   "execution_count": null,
   "id": "41d434f4",
   "metadata": {},
   "outputs": [],
   "source": [
    "# Extracting rows for professionals\n",
    "full_time = df['Employment'] =='Employed full-time'\n",
    "part_time = df['Employment'] =='Employed part-time'\n",
    "other = df['Employment'] =='Independent contractor, freelancer, or self-employed' \n",
    "\n",
    "professionals = (full_time) | (part_time) | (other) \n",
    "                                                                                                                                           "
   ]
  },
  {
   "cell_type": "code",
   "execution_count": null,
   "id": "2ae69bb1",
   "metadata": {},
   "outputs": [],
   "source": [
    "merged_prog = df.join(prog_lang_worked)\n",
    "merged_dev = merged_prog.join(dev_type)\n",
    "merged_dev = merged_dev.loc[professionals]\n",
    "merged_dev = merged_dev.loc[:,'C++':'COBOL']\n",
    "merged_dev_perc = merged_dev.sum().sort_values(ascending=False)"
   ]
  },
  {
   "cell_type": "code",
   "execution_count": null,
   "id": "cfdc882d",
   "metadata": {},
   "outputs": [],
   "source": [
    "fig, (ax1,ax2) = plt.subplots(1, 2 ,figsize=(15,10),sharex=True)\n",
    "\n",
    "sns.barplot(x=student_lang_perc, y = student_lang_perc.index ,ax=ax1)\n",
    "ax1.set_title('Most used programming languages by 2021 Students')\n",
    "ax1.set_xlabel('Percentage')\n",
    "\n",
    "\n",
    "sns.barplot(x=merged_dev_perc, y = merged_dev_perc.index, ax =ax2)\n",
    "plt.title('Most used programming languages by 2021 Professionals')\n",
    "plt.xlabel('Percentage')"
   ]
  },
  {
   "cell_type": "markdown",
   "id": "368821ed",
   "metadata": {},
   "source": [
    "### Q3  What is the average years of coding experience?"
   ]
  },
  {
   "cell_type": "code",
   "execution_count": null,
   "id": "60f4a6e8",
   "metadata": {},
   "outputs": [],
   "source": [
    "# Drop rows with missing salary values\n",
    "df_salary = df.join(prog_lang_worked)\n",
    "df_salary = df_salary.dropna(subset=['CompTotal'], axis=0)\n",
    "df_salary['CompTotal'].astype(int)"
   ]
  },
  {
   "cell_type": "code",
   "execution_count": null,
   "id": "0e620a34",
   "metadata": {},
   "outputs": [],
   "source": [
    "median = df_salary['CompTotal'].median( axis=0, skipna=True) \n",
    "print(median)"
   ]
  },
  {
   "cell_type": "code",
   "execution_count": null,
   "id": "4c6c47f8",
   "metadata": {},
   "outputs": [],
   "source": [
    "df_coding = df_salary.dropna(subset =['YearsCode'], axis =0)\n",
    "to_drop = ['Less than 1 year', 'More than 50 years']\n",
    "df_coding = df_coding[~df_coding['YearsCode'].isin(to_drop)]\n",
    "df_coding = df_coding[~df_coding['YearsCodePro'].isin(to_drop)]"
   ]
  },
  {
   "cell_type": "code",
   "execution_count": null,
   "id": "bb4c6c90",
   "metadata": {},
   "outputs": [],
   "source": [
    "plt.figure(figsize = (20, 6))\n",
    "sns.histplot(x = df_coding[\"YearsCode\"], color = \"blue\", bins=30, kde=True);\n",
    "plt.title('Including any education, how many years have you been coding in total?')"
   ]
  },
  {
   "cell_type": "code",
   "execution_count": null,
   "id": "e9406391",
   "metadata": {},
   "outputs": [],
   "source": [
    "plt.figure(figsize = (20, 6))\n",
    "sns.histplot(x = df_coding[\"YearsCodePro\"], color = \"blue\", bins=30, kde=True);\n",
    "plt.title('NOT including education, how many years have you coded professionally?')"
   ]
  },
  {
   "cell_type": "code",
   "execution_count": null,
   "id": "a986ed4a",
   "metadata": {},
   "outputs": [],
   "source": [
    "df_coding.YearsCodePro.replace('Less than 1 year', '0.5', inplace=True)\n",
    "df_coding.YearsCodePro.replace('More than 50 years', '52', inplace=True)\n",
    "df_coding.YearsCodePro = df_coding.YearsCodePro.astype('float')\n",
    "\n",
    "df_coding.Country.replace('United States of America', 'USA', inplace=True)\n",
    "df_coding.Country.replace('United Kingdom of Great Britain and Northern Ireland', 'UK', inplace=True)\n",
    "df_exp = df_coding.groupby(['Country']).YearsCodePro.mean()\n",
    "\n",
    "df_exp\n",
    "countries =['Australia','USA','Canada','Germany','UK','France','India']\n",
    "exp = [df_exp[x] for x in countries]\n",
    "\n",
    "fig, (ax1,ax2) = plt.subplots(1, 2 ,figsize=(15,10),sharex=True)\n",
    "fig.subplots_adjust(hspace=0)\n",
    "ax1.set_ylabel('Years Coding Pro')\n",
    "sns.barplot(x=countries, y = exp, ax =ax1)\n",
    "\n",
    "\n",
    "\n",
    "df_coding.YearsCode.replace('Less than 1 year', '0.5', inplace=True)\n",
    "df_coding.YearsCode.replace('More than 50 years', '52', inplace=True)\n",
    "df_coding.YearsCode = df_coding.YearsCode.astype('float')\n",
    "\n",
    "\n",
    "df_exp = df_coding.groupby(['Country']).YearsCode.mean()\n",
    "\n",
    "df_exp\n",
    "exp = [df_exp[x] for x in countries]\n",
    "ax2.set_ylabel('Years Coding')\n",
    "sns.barplot(x=countries, y = exp, ax=ax2)\n"
   ]
  },
  {
   "cell_type": "markdown",
   "id": "62344697",
   "metadata": {},
   "source": [
    "## Driven Insights \n",
    "\n"
   ]
  },
  {
   "cell_type": "markdown",
   "id": "717079cc",
   "metadata": {},
   "source": [
    "\n",
    "* No one can ignore the rapid rise of python followed by TypeScript \n",
    "* Once a coder may _not_ always be a coder as a considerable proportion think that a coding job is not for everyone.\n",
    "* __Getting Things Done__ and __Communication__ are the most important skills required to get hired by a tech firm while just  __Education Credentials__ may not be of a high value."
   ]
  },
  {
   "cell_type": "code",
   "execution_count": null,
   "id": "9d78f3c1",
   "metadata": {},
   "outputs": [],
   "source": []
  }
 ],
 "metadata": {
  "kernelspec": {
   "display_name": "Python 3",
   "language": "python",
   "name": "python3"
  },
  "language_info": {
   "codemirror_mode": {
    "name": "ipython",
    "version": 3
   },
   "file_extension": ".py",
   "mimetype": "text/x-python",
   "name": "python",
   "nbconvert_exporter": "python",
   "pygments_lexer": "ipython3",
   "version": "3.8.8"
  }
 },
 "nbformat": 4,
 "nbformat_minor": 5
}
